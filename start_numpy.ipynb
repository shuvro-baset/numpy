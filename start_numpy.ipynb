{
 "metadata": {
  "language_info": {
   "codemirror_mode": {
    "name": "ipython",
    "version": 3
   },
   "file_extension": ".py",
   "mimetype": "text/x-python",
   "name": "python",
   "nbconvert_exporter": "python",
   "pygments_lexer": "ipython3",
   "version": "3.7.9-final"
  },
  "orig_nbformat": 2,
  "kernelspec": {
   "name": "python379jvsc74a57bd0ed8ef02b0dd211284e2e968e344b9b07fb58ac81ea1959862a718b074549dfe3",
   "display_name": "Python 3.7.9 64-bit"
  }
 },
 "nbformat": 4,
 "nbformat_minor": 2,
 "cells": [
  {
   "cell_type": "code",
   "execution_count": 32,
   "metadata": {},
   "outputs": [
    {
     "output_type": "stream",
     "name": "stdout",
     "text": [
      "<built-in function array>\n"
     ]
    },
    {
     "output_type": "execute_result",
     "data": {
      "text/plain": [
       "array([[4, 0, 0],\n",
       "       [0, 5, 0],\n",
       "       [0, 0, 6]])"
      ]
     },
     "metadata": {},
     "execution_count": 32
    }
   ],
   "source": [
    "# importing numpy package and set this as 'np' so that in future we can call it only type 'np'\n",
    "import numpy as np \n",
    "# array function calling. its just built-in function array. \n",
    "a = np.array\n",
    "'''note: np.array(object, dtype=None, copy=true, order=none, subok=false, ndim=0) // array function has these default peramater ''' \n",
    "print(a)\n",
    "\n",
    "z = np.zeros([3,2]) # zeros function return a null matrix, all the elements will be 0\n",
    "z\n",
    "o = np.ones([3,2]) # ones function return a unit matrix, all the elements will be 1\n",
    "o\n",
    "\n",
    "f = np.full([3,2], 5) # full function return a matrix, all the elements will be fix given by me.\n",
    "f\n",
    "\n",
    "''' R : Number of rows\n",
    "C : [optional] Number of columns; By default M = N\n",
    "k : [int, optional, 0 by default]\n",
    "          Diagonal we require; k>0 means diagonal above main diagonal or vice versa.\n",
    "dtype : [optional, float(by Default)] Data type of returned array.  '''\n",
    "\n",
    "e = np.eye(4, 4) # eye function return a diagonal matrix, all the diagonal elements will be 1\n",
    "e\n",
    "\n",
    "''' make diagonal matrix using different value '''\n",
    "\n",
    "df = np.diag([4,5,6])\n",
    "df"
   ]
  },
  {
   "cell_type": "code",
   "execution_count": 4,
   "metadata": {},
   "outputs": [
    {
     "output_type": "stream",
     "name": "stdout",
     "text": [
      "[1 2 3 4 5 4]\n<class 'numpy.ndarray'>\n"
     ]
    }
   ],
   "source": [
    "# make a array passing a list \n",
    "a= np.array([1,2,3,4,5,4])\n",
    "print(a)\n",
    "# finding type of a. \n",
    "print(type(a))"
   ]
  },
  {
   "cell_type": "code",
   "execution_count": 6,
   "metadata": {},
   "outputs": [
    {
     "output_type": "stream",
     "name": "stdout",
     "text": [
      "[[1 2 3]\n [4 5 6]]\n<class 'numpy.ndarray'>\n"
     ]
    }
   ],
   "source": [
    "# define multi dimenstional array\n",
    "a = np.array([[1,2,3], [4,5,6]])\n",
    "print(a)"
   ]
  },
  {
   "cell_type": "code",
   "execution_count": 8,
   "metadata": {},
   "outputs": [
    {
     "output_type": "stream",
     "name": "stdout",
     "text": [
      "[[1.+0.j 2.+0.j 3.+0.j]\n [4.+0.j 5.+0.j 6.+0.j]]\n[[1. 2. 3.]\n [4. 5. 6.]]\n"
     ]
    }
   ],
   "source": [
    "# define data type calling dtype peram \n",
    "a = np.array([[1,2,3], [4,5,6]], dtype=complex)\n",
    "# data type will be complex number\n",
    "print(a)\n",
    "b = np.array([[1,2,3], [4,5,6]], dtype=float)\n",
    "# here data type will be float number\n",
    "print(b)"
   ]
  },
  {
   "cell_type": "code",
   "execution_count": 6,
   "metadata": {},
   "outputs": [
    {
     "output_type": "stream",
     "name": "stdout",
     "text": [
      "size of the array is :  6\nshape of the array is :  (6,)\nsize of the array is :  6\nshape of the array is :  (2, 3)\n[[1. 2.]\n [3. 4.]\n [5. 6.]]\nshape of the array is :  (3, 2)\n"
     ]
    }
   ],
   "source": [
    "# finding array size and shape \n",
    "a= np.array([1,2,3,4,5,4])\n",
    "print(\"size of the array is : \", a.size)\n",
    "print(\"shape of the array is : \", a.shape)\n",
    "\n",
    "b = np.array([[1,2,3], [4,5,6]], dtype=float)\n",
    "print(\"size of the array is : \", b.size)\n",
    "print(\"shape of the array is : \", b.shape)\n",
    "# reshape function . It can change the previous shape of the array.\n",
    "c =b.reshape(3,2)\n",
    "print(c)\n",
    "print(\"shape of the array is : \", c.shape)\n"
   ]
  },
  {
   "cell_type": "code",
   "execution_count": 9,
   "metadata": {},
   "outputs": [
    {
     "output_type": "stream",
     "name": "stdout",
     "text": [
      "9\n"
     ]
    }
   ],
   "source": [
    "''' slicing in the numpy array is the way to extract a range of elements from an array. \n",
    "we can return some elements from the array as we want using slicing method. It takes row and column peram. \n",
    "here indexing will start like as list. It means row and column index will start from 0.\n",
    "'''\n",
    "b = np.array([[1,2,3], [4,5,6], [7,8,9]])\n",
    "''' now I will print the element which position is row 3 column 3. But in the calling array I will write 2,2. It is way to find out single element. We can also find out more element . '''\n",
    "print(b[2,2])\n",
    "\n"
   ]
  },
  {
   "cell_type": "code",
   "execution_count": 31,
   "metadata": {},
   "outputs": [
    {
     "output_type": "execute_result",
     "data": {
      "text/plain": [
       "array([1.00000000e+00, 3.17480210e+00, 1.00793684e+01, 3.20000000e+01,\n",
       "       1.01593667e+02, 3.22539789e+02, 1.02400000e+03])"
      ]
     },
     "metadata": {},
     "execution_count": 31
    }
   ],
   "source": [
    "''' \"linspace\" np.linspace([start], [end], [amount of numbers]) \n",
    "Return evenly spaced numbers over a specified interval.\n",
    "Returns num evenly spaced samples, calculated over the interval [start, stop].\n",
    "The endpoint of the interval can optionally be excluded.'''\n",
    "\n",
    "l =np.linspace(2.0, 3.0, num=5)\n",
    "l\n",
    "\n",
    "''' numpy.logspace(start, stop, num=50, endpoint=True, base=10.0, dtype=None, axis=0)\n",
    "Return numbers spaced evenly on a log scale. '''\n",
    "log = np.logspace(0,10,7, base=2)\n",
    "log"
   ]
  },
  {
   "cell_type": "code",
   "execution_count": null,
   "metadata": {},
   "outputs": [],
   "source": []
  }
 ]
}