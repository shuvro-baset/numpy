{
 "metadata": {
  "language_info": {
   "codemirror_mode": {
    "name": "ipython",
    "version": 3
   },
   "file_extension": ".py",
   "mimetype": "text/x-python",
   "name": "python",
   "nbconvert_exporter": "python",
   "pygments_lexer": "ipython3",
   "version": "3.7.9"
  },
  "orig_nbformat": 2,
  "kernelspec": {
   "name": "python379jvsc74a57bd0ed8ef02b0dd211284e2e968e344b9b07fb58ac81ea1959862a718b074549dfe3",
   "display_name": "Python 3.7.9 64-bit"
  }
 },
 "nbformat": 4,
 "nbformat_minor": 2,
 "cells": [
  {
   "cell_type": "code",
   "execution_count": 2,
   "metadata": {},
   "outputs": [
    {
     "output_type": "stream",
     "name": "stdout",
     "text": [
      "<built-in function array>\n"
     ]
    }
   ],
   "source": [
    "# importing numpy package and set this as 'np' so that in future we can call it only type 'np'\n",
    "import numpy as np \n",
    "# array function calling. its just built-in function array. \n",
    "a = np.array\n",
    "'''note: np.array(object, dtype=None, copy=true, order=none, subok=false, ndim=0) // array function has these default peramater ''' \n",
    "print(a)\n"
   ]
  },
  {
   "cell_type": "code",
   "execution_count": 4,
   "metadata": {},
   "outputs": [
    {
     "output_type": "stream",
     "name": "stdout",
     "text": [
      "[1 2 3 4 5 4]\n<class 'numpy.ndarray'>\n"
     ]
    }
   ],
   "source": [
    "# make a array passing a list \n",
    "a= np.array([1,2,3,4,5,4])\n",
    "print(a)\n",
    "# finding type of a. \n",
    "print(type(a))"
   ]
  },
  {
   "cell_type": "code",
   "execution_count": 6,
   "metadata": {},
   "outputs": [
    {
     "output_type": "stream",
     "name": "stdout",
     "text": [
      "[[1 2 3]\n [4 5 6]]\n<class 'numpy.ndarray'>\n"
     ]
    }
   ],
   "source": [
    "# define multi dimenstional array\n",
    "a = np.array([[1,2,3], [4,5,6]])\n",
    "print(a)"
   ]
  },
  {
   "cell_type": "code",
   "execution_count": 8,
   "metadata": {},
   "outputs": [
    {
     "output_type": "stream",
     "name": "stdout",
     "text": [
      "[[1.+0.j 2.+0.j 3.+0.j]\n [4.+0.j 5.+0.j 6.+0.j]]\n[[1. 2. 3.]\n [4. 5. 6.]]\n"
     ]
    }
   ],
   "source": [
    "# define data type calling dtype peram \n",
    "a = np.array([[1,2,3], [4,5,6]], dtype=complex)\n",
    "# data type will be complex number\n",
    "print(a)\n",
    "b = np.array([[1,2,3], [4,5,6]], dtype=float)\n",
    "# here data type will be float number\n",
    "print(b)"
   ]
  },
  {
   "cell_type": "code",
   "execution_count": 11,
   "metadata": {},
   "outputs": [
    {
     "output_type": "stream",
     "name": "stdout",
     "text": [
      "size of the array is :  6\nshape of the array is :  (6,)\nsize of the array is :  6\nshape of the array is :  (2, 3)\n"
     ]
    }
   ],
   "source": [
    "# finding array size and shape \n",
    "a= np.array([1,2,3,4,5,4])\n",
    "print(\"size of the array is : \", a.size)\n",
    "print(\"shape of the array is : \", a.shape)\n",
    "\n",
    "b = np.array([[1,2,3], [4,5,6]], dtype=float)\n",
    "print(\"size of the array is : \", b.size)\n",
    "print(\"shape of the array is : \", b.shape)"
   ]
  },
  {
   "cell_type": "code",
   "execution_count": null,
   "metadata": {},
   "outputs": [],
   "source": []
  }
 ]
}