{
 "metadata": {
  "language_info": {
   "codemirror_mode": {
    "name": "ipython",
    "version": 3
   },
   "file_extension": ".py",
   "mimetype": "text/x-python",
   "name": "python",
   "nbconvert_exporter": "python",
   "pygments_lexer": "ipython3",
   "version": "3.7.9"
  },
  "orig_nbformat": 2,
  "kernelspec": {
   "name": "python379jvsc74a57bd0ed8ef02b0dd211284e2e968e344b9b07fb58ac81ea1959862a718b074549dfe3",
   "display_name": "Python 3.7.9 64-bit"
  }
 },
 "nbformat": 4,
 "nbformat_minor": 2,
 "cells": [
  {
   "cell_type": "code",
   "execution_count": 2,
   "metadata": {},
   "outputs": [
    {
     "output_type": "stream",
     "name": "stdout",
     "text": [
      "<built-in function array>\n"
     ]
    },
    {
     "output_type": "execute_result",
     "data": {
      "text/plain": [
       "array([[4, 0, 0],\n",
       "       [0, 5, 0],\n",
       "       [0, 0, 6]])"
      ]
     },
     "metadata": {},
     "execution_count": 2
    }
   ],
   "source": [
    "# importing numpy package and set this as 'np' so that in future we can call it only type 'np'\n",
    "import numpy as np \n",
    "# array function calling. its just built-in function array. \n",
    "a = np.array\n",
    "'''note: np.array(object, dtype=None, copy=true, order=none, subok=false, ndim=0) // array function has these default peramater ''' \n",
    "print(a)\n",
    "\n",
    "z = np.zeros([3,2]) # zeros function return a null matrix, all the elements will be 0\n",
    "z\n",
    "o = np.ones([3,2]) # ones function return a unit matrix, all the elements will be 1\n",
    "o\n",
    "\n",
    "f = np.full([3,2], 5) # full function return a matrix, all the elements will be fix given by me.\n",
    "f\n",
    "\n",
    "''' R : Number of rows\n",
    "C : [optional] Number of columns; By default M = N\n",
    "k : [int, optional, 0 by default]\n",
    "          Diagonal we require; k>0 means diagonal above main diagonal or vice versa.\n",
    "dtype : [optional, float(by Default)] Data type of returned array.  '''\n",
    "\n",
    "e = np.eye(4, 4) # eye function return a diagonal matrix, all the diagonal elements will be 1\n",
    "e\n",
    "\n",
    "''' make diagonal matrix using different value '''\n",
    "\n",
    "df = np.diag([4,5,6])\n",
    "df"
   ]
  },
  {
   "cell_type": "code",
   "execution_count": 4,
   "metadata": {},
   "outputs": [
    {
     "output_type": "stream",
     "name": "stdout",
     "text": [
      "[1 2 3 4 5 4]\n<class 'numpy.ndarray'>\n"
     ]
    }
   ],
   "source": [
    "# make a array passing a list \n",
    "a= np.array([1,2,3,4,5,4])\n",
    "print(a)\n",
    "# finding type of a. \n",
    "print(type(a))"
   ]
  },
  {
   "cell_type": "code",
   "execution_count": 6,
   "metadata": {},
   "outputs": [
    {
     "output_type": "stream",
     "name": "stdout",
     "text": [
      "[[1 2 3]\n [4 5 6]]\n<class 'numpy.ndarray'>\n"
     ]
    }
   ],
   "source": [
    "# define multi dimenstional array\n",
    "a = np.array([[1,2,3], [4,5,6]])\n",
    "print(a)"
   ]
  },
  {
   "cell_type": "code",
   "execution_count": 8,
   "metadata": {},
   "outputs": [
    {
     "output_type": "stream",
     "name": "stdout",
     "text": [
      "[[1.+0.j 2.+0.j 3.+0.j]\n [4.+0.j 5.+0.j 6.+0.j]]\n[[1. 2. 3.]\n [4. 5. 6.]]\n"
     ]
    }
   ],
   "source": [
    "# define data type calling dtype peram \n",
    "a = np.array([[1,2,3], [4,5,6]], dtype=complex)\n",
    "# data type will be complex number\n",
    "print(a)\n",
    "b = np.array([[1,2,3], [4,5,6]], dtype=float)\n",
    "# here data type will be float number\n",
    "print(b)"
   ]
  },
  {
   "cell_type": "code",
   "execution_count": 6,
   "metadata": {},
   "outputs": [
    {
     "output_type": "stream",
     "name": "stdout",
     "text": [
      "size of the array is :  6\nshape of the array is :  (6,)\nsize of the array is :  6\nshape of the array is :  (2, 3)\n[[1. 2.]\n [3. 4.]\n [5. 6.]]\nshape of the array is :  (3, 2)\n"
     ]
    }
   ],
   "source": [
    "# finding array size and shape \n",
    "a= np.array([1,2,3,4,5,4])\n",
    "print(\"size of the array is : \", a.size)\n",
    "print(\"shape of the array is : \", a.shape)\n",
    "\n",
    "b = np.array([[1,2,3], [4,5,6]], dtype=float)\n",
    "print(\"size of the array is : \", b.size)\n",
    "print(\"shape of the array is : \", b.shape)\n",
    "# reshape function . It can change the previous shape of the array.\n",
    "c =b.reshape(3,2)\n",
    "print(c)\n",
    "print(\"shape of the array is : \", c.shape)\n"
   ]
  },
  {
   "cell_type": "code",
   "execution_count": 9,
   "metadata": {},
   "outputs": [
    {
     "output_type": "stream",
     "name": "stdout",
     "text": [
      "9\n"
     ]
    }
   ],
   "source": [
    "''' slicing in the numpy array is the way to extract a range of elements from an array. \n",
    "we can return some elements from the array as we want using slicing method. It takes row and column peram. \n",
    "here indexing will start like as list. It means row and column index will start from 0.\n",
    "'''\n",
    "b = np.array([[1,2,3], [4,5,6], [7,8,9]])\n",
    "''' now I will print the element which position is row 3 column 3. But in the calling array I will write 2,2. It is way to find out single element. We can also find out more element . '''\n",
    "print(b[2,2])\n",
    "\n"
   ]
  },
  {
   "cell_type": "code",
   "execution_count": 31,
   "metadata": {},
   "outputs": [
    {
     "output_type": "execute_result",
     "data": {
      "text/plain": [
       "array([1.00000000e+00, 3.17480210e+00, 1.00793684e+01, 3.20000000e+01,\n",
       "       1.01593667e+02, 3.22539789e+02, 1.02400000e+03])"
      ]
     },
     "metadata": {},
     "execution_count": 31
    }
   ],
   "source": [
    "''' \"linspace\" np.linspace([start], [end], [amount of numbers]) \n",
    "Return evenly spaced numbers over a specified interval.\n",
    "Returns num evenly spaced samples, calculated over the interval [start, stop].\n",
    "The endpoint of the interval can optionally be excluded.'''\n",
    "\n",
    "l =np.linspace(2.0, 3.0, num=5)\n",
    "l\n",
    "\n",
    "''' numpy.logspace(start, stop, num=50, endpoint=True, base=10.0, dtype=None, axis=0)\n",
    "Return numbers spaced evenly on a log scale. '''\n",
    "log = np.logspace(0,10,7, base=2)\n",
    "log"
   ]
  },
  {
   "cell_type": "code",
   "execution_count": 34,
   "metadata": {},
   "outputs": [
    {
     "output_type": "stream",
     "name": "stdout",
     "text": [
      "max number from this array is:  6\nmin number from this array is:  1\nsum of this array is:  21\n"
     ]
    }
   ],
   "source": [
    "# maximum, minimum, sum\n",
    "b = np.array([[1,2,3], [4,5,6]])\n",
    "print(\"max number from this array is: \", b.max())\n",
    "print(\"min number from this array is: \", b.min())\n",
    "print(\"sum of this array is: \", b.sum())\n"
   ]
  },
  {
   "cell_type": "code",
   "execution_count": 35,
   "metadata": {},
   "outputs": [
    {
     "output_type": "stream",
     "name": "stdout",
     "text": [
      "square root of every element from this array are:  [[1.         1.41421356 1.73205081]\n [2.         2.23606798 2.44948974]]\nstandard deviation of this array is:  1.707825127659933\n"
     ]
    }
   ],
   "source": [
    "# squar root, standard deviation\n",
    "b = np.array([[1,2,3], [4,5,6]])\n",
    "print(\"square root of every element from this array are: \", np.sqrt(b))\n",
    "print(\"standard deviation of this array is: \", np.std(b))"
   ]
  },
  {
   "cell_type": "code",
   "execution_count": 38,
   "metadata": {},
   "outputs": [
    {
     "output_type": "stream",
     "name": "stdout",
     "text": [
      "addition of two array is : \n [[ 5 10  6]\n [ 9 10 10]]\nsubtraction of two array is: \n [[-3 -6  0]\n [-1  0  2]]\nmultiplication of two array is: \n [[ 4 16  9]\n [20 25 24]]\ndevision of two array is: \n [[0.25 0.25 1.  ]\n [0.8  1.   1.5 ]]\n"
     ]
    }
   ],
   "source": [
    "# addition, subtraction, multiplication, devision \n",
    "x = np.array([[1,2,3], [4,5,6]])\n",
    "y = np.array([[4,8,3], [5,5,4]])\n",
    " \n",
    "print(\"addition of two array is : \\n\", x + y)\n",
    "print(\"subtraction of two array is: \\n\", x - y)\n",
    "print(\"multiplication of two array is: \\n\", x * y)\n",
    "print(\"devision of two array is: \\n\", x / y)\n"
   ]
  },
  {
   "cell_type": "code",
   "execution_count": 40,
   "metadata": {},
   "outputs": [
    {
     "output_type": "stream",
     "name": "stdout",
     "text": [
      "verticall concatenation between x and y is : \n [[1 2 3]\n [4 5 6]\n [4 8 3]\n [5 5 4]]\nhorizontal concatenation between x and y is : \n [[1 2 3 4 8 3]\n [4 5 6 5 5 4]]\n"
     ]
    }
   ],
   "source": [
    "# vertically and horizontally concatenation  \n",
    "x = np.array([[1,2,3], [4,5,6]])\n",
    "y = np.array([[4,8,3], [5,5,4]])\n",
    "print(\"verticall concatenation between x and y is : \\n\", np.vstack((x,y)))\n",
    "print(\"horizontal concatenation between x and y is : \\n\", np.hstack((x,y)))\n"
   ]
  },
  {
   "cell_type": "code",
   "execution_count": 61,
   "metadata": {},
   "outputs": [
    {
     "output_type": "execute_result",
     "data": {
      "text/plain": [
       "array([[1756492160,        342],\n",
       "       [         0,          0],\n",
       "       [    131074, 1714319470]])"
      ]
     },
     "metadata": {},
     "execution_count": 61
    }
   ],
   "source": [
    "# numpy empty array\n",
    "empty = np.empty((3,2), dtype='int')\n",
    "empty"
   ]
  },
  {
   "cell_type": "code",
   "execution_count": 68,
   "metadata": {},
   "outputs": [
    {
     "output_type": "stream",
     "name": "stdout",
     "text": [
      "[1 2 5 4 8 3 4]\n[1 2 5 4 8 3 4]\n"
     ]
    }
   ],
   "source": [
    "# numpy asarray \n",
    "list = [1,2,5,4,8,3,4]\n",
    "a = np.asarray(list)\n",
    "print(a)\n",
    "tuple = (1,2,5,4,8,3,4)\n",
    "b = np.asarray(tuple)\n",
    "print(b)"
   ]
  },
  {
   "cell_type": "code",
   "execution_count": 4,
   "metadata": {},
   "outputs": [
    {
     "output_type": "stream",
     "name": "stdout",
     "text": [
      "1\n2\n3\n4\n5\n6\n[[1 4]\n [2 5]\n [3 6]]\n"
     ]
    }
   ],
   "source": [
    "# numpy array iteration \n",
    "x = np.array([[1,2,3], [4,5,6]])\n",
    "for i in np.nditer(x):\n",
    "    print(i)\n",
    "# numpy array transpose\n",
    "tr = x.T\n",
    "print(tr)"
   ]
  },
  {
   "cell_type": "code",
   "execution_count": 6,
   "metadata": {},
   "outputs": [
    {
     "output_type": "stream",
     "name": "stdout",
     "text": [
      "0b1010\n0b1100\nBitwise AND of a and b :  8\n0b1000\nBitwise OR of a and b :  14\n0b1110\n"
     ]
    }
   ],
   "source": [
    "# numpy bitwise operator\n",
    "a = 10\n",
    "b = 12\n",
    "print(bin(a))\n",
    "print(bin(b))\n",
    "# bitwise AND\n",
    "print(\"Bitwise AND of a and b : \", np.bitwise_and(a,b))\n",
    "print(bin(np.bitwise_and(a,b)))\n",
    "# bitwise OR\n",
    "print(\"Bitwise OR of a and b : \", np.bitwise_or(a,b))\n",
    "print(bin(np.bitwise_or(a,b)))"
   ]
  },
  {
   "cell_type": "code",
   "execution_count": 22,
   "metadata": {},
   "outputs": [
    {
     "output_type": "stream",
     "name": "stdout",
     "text": [
      "['hishuvro']\nhellohellohello\n_______hello________\nHello Shuvro Baset\n['hello', 'shuvro', 'baset']\nhello shuvro baset\nh:e:l:l:o: :s:h:u:v:r:o: :b:a:s:e:t\nhello\nb'\\xa6\\x85\\x93\\x83\\x96\\x94\\x85@\\xa3\\x96@\\x95\\xa4\\x94\\x97\\xa8'\nwelcome to numpy\n"
     ]
    }
   ],
   "source": [
    "# numpy string function\n",
    "# add funtcion can use for string concatenation \n",
    "a = np.char.add(['hi'], ['shuvro'])\n",
    "print(a)\n",
    "\n",
    "# multiplication \n",
    "print(np.char.multiply('hello', 3))\n",
    "\n",
    "# center\n",
    "print(np.char.center('hello', 20, '_'))\n",
    "\n",
    "# title\n",
    "print(np.char.title('hello shuvro baset' ))\n",
    "# lower, upper .... \n",
    "\n",
    "# split\n",
    "print(np.char.split('hello shuvro baset' ),sep=\" \")\n",
    "\n",
    "# strip\n",
    "print(np.char.strip('   hello shuvro baset' ))\n",
    "\n",
    "# join\n",
    "print(np.char.join( \":\", 'hello shuvro baset' ))\n",
    "\n",
    "# replace\n",
    "sample_string = 'hi'\n",
    "print(np.char.replace(sample_string, \"hi\", \"hello\"))\n",
    "\n",
    "# encode decode\n",
    "en_str = np.char.encode(\"welcome to numpy\", \"cp500\")\n",
    "dc_str = np.char.decode(en_str, 'cp500')\n",
    "print(en_str)\n",
    "print(dc_str)"
   ]
  },
  {
   "cell_type": "code",
   "execution_count": 25,
   "metadata": {},
   "outputs": [
    {
     "output_type": "stream",
     "name": "stdout",
     "text": [
      "Sin value of an agle is: \n[0.         0.5        0.70710678 0.8660254  1.        ]\narray values rounded off 2 decimal position:  [35 45 64 95]\narray values rounded -1 decimal position:  [ 40  40  60 100]\n"
     ]
    }
   ],
   "source": [
    "# numpy mathemetical functions\n",
    "# trigonometry\n",
    "array = np.array([0,30,45,60,90])\n",
    "print(\"Sin value of an agle is: \")\n",
    "print(np.sin(array*np.pi/180))\n",
    "\n",
    "# rounding function \n",
    "array = np.array([35,45,64,95])\n",
    "print(\"array values rounded off 2 decimal position: \", np.around(array, 2))\n",
    "print(\"array values rounded -1 decimal position: \", np.around(array,-1))\n",
    "\n",
    "# floor function can ignore the decimal point after the Integer number\n",
    "# ceil function can rounded the number, like if a number is 4.5 it will return 5 \n",
    "\n"
   ]
  },
  {
   "cell_type": "code",
   "execution_count": 32,
   "metadata": {},
   "outputs": [
    {
     "output_type": "stream",
     "name": "stdout",
     "text": [
      "[[54 10 45]\n [ 4 55 44]\n [47 65 60]]\nthe minimum element among the array:  4\nthe minimum element among the array:  65\nthe minimum element among the column of the array:  [ 4 10 44]\nthe minimum element among the column of  the array:  [54 65 60]\nthe minimum element among the row of  the array:  [10  4 47]\nthe minimum element among the row of  the array:  [54 55 65]\nPTP value along with axis 1 means row wise:  [44 51 18]\nPTP value along with axis 0 means column wise:  [50 55 16]\n[[54 10 45]\n [ 4 55 44]\n [47 65 60]]\npercentile along with axis 0:  [12.6 19.  44.2]\npercentile along with axis 1:  [17.  12.  49.6]\n"
     ]
    }
   ],
   "source": [
    "# numPy statistical functions \n",
    "\n",
    "a = np.array([[54,10,45], [4,55,44,], [47,65,60]])\n",
    "print(a)\n",
    "print(\"the minimum element among the array: \", np.amin(a))\n",
    "print(\"the minimum element among the array: \", np.amax(a))\n",
    "\n",
    "print(\"the minimum element among the column of the array: \", np.amin(a,0))\n",
    "print(\"the minimum element among the column of  the array: \", np.amax(a, 0))\n",
    "\n",
    "print(\"the minimum element among the row of  the array: \", np.amin(a,1))\n",
    "print(\"the minimum element among the row of  the array: \", np.amax(a,1))\n",
    "\n",
    "# ptp (peak to peak)\n",
    "print(\"PTP value along with axis 1 means row wise: \", np.ptp(a,1))\n",
    "print(\"PTP value along with axis 0 means column wise: \", np.ptp(a,0))\n",
    "\n",
    "print(a)\n",
    "# percentile\n",
    "print(\"percentile along with axis 0: \", np.percentile(a,10,0))\n",
    "print(\"percentile along with axis 1: \", np.percentile(a,10,1))"
   ]
  },
  {
   "cell_type": "code",
   "execution_count": 35,
   "metadata": {},
   "outputs": [
    {
     "output_type": "stream",
     "name": "stdout",
     "text": [
      "[[54 10 45]\n [ 4 55 44]\n [47 65 60]]\nthe minimum element among the column of the array:  42.666666666666664\nthe minimum element among the column of  the array:  47.0\nthe minimum element among the column of  the array:  42.666666666666664\n"
     ]
    }
   ],
   "source": [
    "# median mean average\n",
    "a = np.array([[54,10,45], [4,55,44,], [47,65,60]])\n",
    "print(a)\n",
    "\n",
    "print(\"the minimum element among the column of the array: \", np.mean(a))\n",
    "print(\"the minimum element among the column of  the array: \", np.median(a))\n",
    "print(\"the minimum element among the column of  the array: \", np.average(a))\n"
   ]
  },
  {
   "cell_type": "code",
   "execution_count": 36,
   "metadata": {},
   "outputs": [
    {
     "output_type": "stream",
     "name": "stdout",
     "text": [
      "array is printed in sorted form:  [[10 45 54]\n [ 4 44 55]\n [47 60 65]]\nSorting along the rows:  [[ 4 10 44]\n [47 55 45]\n [54 65 60]]\n"
     ]
    }
   ],
   "source": [
    "# numpy sorting\n",
    "a = np.array([[54,10,45], [4,55,44,], [47,65,60]])\n",
    "print(\"array is printed in sorted form: \", np.sort(a))\n",
    "print(\"Sorting along the rows: \", np.sort(a, 0))"
   ]
  },
  {
   "cell_type": "code",
   "execution_count": 38,
   "metadata": {},
   "outputs": [
    {
     "output_type": "stream",
     "name": "stdout",
     "text": [
      "(array([0, 0, 1, 1, 2, 2, 2], dtype=int64), array([0, 2, 1, 2, 0, 1, 2], dtype=int64))\n(array([2, 3, 4, 5], dtype=int64),)\n"
     ]
    }
   ],
   "source": [
    "# numpy searching \n",
    "a = np.array([[54,10,45], [4,55,44,], [47,65,60]])\n",
    "print(np.where(a>20))\n",
    "b = np.array([5,4,40,45,80,41,10])\n",
    "print(np.where(b>20))"
   ]
  },
  {
   "cell_type": "code",
   "execution_count": 46,
   "metadata": {},
   "outputs": [
    {
     "output_type": "stream",
     "name": "stdout",
     "text": [
      "[[3400 6200]\n [ 374  712]]\n5528\n[[3400 6200]\n [ 374  712]]\n-3399.999999999999\n-30.000000000000004\n[[-0.00352941  0.05882353]\n [ 0.00676471 -0.02941176]]\n[[-0.7         0.66666667]\n [ 0.4        -0.33333333]]\n"
     ]
    }
   ],
   "source": [
    "# numpy with linear algebra\n",
    "x = np.array([[100,200], [23,12]])\n",
    "y = np.array([[10,20], [12,21]])\n",
    "# dot function is like as array multiplication linear way\n",
    "dot = np.dot(x,y)\n",
    "print(dot)\n",
    "# vdot function multiplied with row by row \n",
    "print(np.vdot(x,y))\n",
    "# matmul same as dot\n",
    "print(np.matmul(x,y))\n",
    "# determinant\n",
    "print(np.linalg.det(x))\n",
    "print(np.linalg.det(y))\n",
    "\n",
    "# matrix inverse\n",
    "print(np.linalg.inv(x))\n",
    "print(np.linalg.inv(y))"
   ]
  },
  {
   "cell_type": "code",
   "execution_count": null,
   "metadata": {},
   "outputs": [],
   "source": [
    "'''numpy save function can save a file as a new file\n",
    "a = np.array([....])\n",
    "np.save('file name' a)\n",
    "\n",
    "'''"
   ]
  }
 ]
}